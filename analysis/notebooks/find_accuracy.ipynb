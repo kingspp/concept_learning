{
 "cells": [
  {
   "cell_type": "code",
   "execution_count": 1,
   "metadata": {},
   "outputs": [
    {
     "name": "stderr",
     "output_type": "stream",
     "text": [
      "/usr/local/lib/python3.7/site-packages/dask/config.py:131: YAMLLoadWarning: calling yaml.load() without Loader=... is deprecated, as the default Loader is unsafe. Please read https://msg.pyyaml.org/load for full details.\n",
      "  data = yaml.load(f.read()) or {}\n"
     ]
    }
   ],
   "source": [
    "from matplotlib import pyplot as plt\n",
    "import os\n",
    "import pandas as pd\n",
    "import numpy as np\n",
    "import math\n",
    "from sklearn.metrics import accuracy_score\n",
    "\n",
    "from utils.utils import read_label, get_label_reconstructed\n",
    "from config import ExperimentConfig\n",
    "from experiments.experiment import Experiment\n",
    "#from config.common_path import get_ba\n",
    "%matplotlib inline"
   ]
  },
  {
   "cell_type": "code",
   "execution_count": 2,
   "metadata": {},
   "outputs": [],
   "source": [
    "pd.set_option('display.max_columns', 400)"
   ]
  },
  {
   "cell_type": "code",
   "execution_count": 3,
   "metadata": {},
   "outputs": [
    {
     "ename": "NameError",
     "evalue": "name 'ROOT_PATH' is not defined",
     "output_type": "error",
     "traceback": [
      "\u001b[0;31m---------------------------------------------------------------------------\u001b[0m",
      "\u001b[0;31mNameError\u001b[0m                                 Traceback (most recent call last)",
      "\u001b[0;32m<ipython-input-3-831151e70312>\u001b[0m in \u001b[0;36m<module>\u001b[0;34m\u001b[0m\n\u001b[1;32m      8\u001b[0m \u001b[0mROOT_PATH_UNSUPERVISED\u001b[0m \u001b[0;34m=\u001b[0m \u001b[0;34m\"/Users/sunilkumar/concept_learning_old/image_classification_old/\"\u001b[0m\u001b[0;34m\u001b[0m\u001b[0;34m\u001b[0m\u001b[0m\n\u001b[1;32m      9\u001b[0m \u001b[0;34m\u001b[0m\u001b[0m\n\u001b[0;32m---> 10\u001b[0;31m \u001b[0mexp_config\u001b[0m \u001b[0;34m=\u001b[0m \u001b[0mExperimentConfig\u001b[0m\u001b[0;34m(\u001b[0m\u001b[0mROOT_PATH\u001b[0m\u001b[0;34m,\u001b[0m \u001b[0;36m4\u001b[0m\u001b[0;34m,\u001b[0m \u001b[0mZ_DIM\u001b[0m\u001b[0;34m,\u001b[0m \u001b[0;34m[\u001b[0m\u001b[0mN_1\u001b[0m\u001b[0;34m,\u001b[0m \u001b[0mN_2\u001b[0m\u001b[0;34m,\u001b[0m \u001b[0mN_3\u001b[0m\u001b[0;34m]\u001b[0m\u001b[0;34m)\u001b[0m\u001b[0;34m\u001b[0m\u001b[0;34m\u001b[0m\u001b[0m\n\u001b[0m\u001b[1;32m     11\u001b[0m \u001b[0mexp_config\u001b[0m\u001b[0;34m.\u001b[0m\u001b[0mcheck_and_create_directories\u001b[0m\u001b[0;34m(\u001b[0m\u001b[0mrun_id\u001b[0m\u001b[0;34m)\u001b[0m\u001b[0;34m\u001b[0m\u001b[0;34m\u001b[0m\u001b[0m\n\u001b[1;32m     12\u001b[0m \u001b[0mBATCH_SIZE\u001b[0m \u001b[0;34m=\u001b[0m \u001b[0mexp_config\u001b[0m\u001b[0;34m.\u001b[0m\u001b[0mBATCH_SIZE\u001b[0m\u001b[0;34m\u001b[0m\u001b[0;34m\u001b[0m\u001b[0m\n",
      "\u001b[0;31mNameError\u001b[0m: name 'ROOT_PATH' is not defined"
     ]
    }
   ],
   "source": [
    "N_3 = 32\n",
    "N_2 = 128\n",
    "N_1 = 64\n",
    "Z_DIM = 5\n",
    "run_id = 1\n",
    "\n",
    "ROOT_PATH = \"/Users/sunilkumar/concept_learning_old/image_classification_old/\"\n",
    "#ROOT_PATH_UNSUPERVISED = \"/Users/sunilkumar/concept_learning_old/image_classification_old/\"\n",
    "\n",
    "exp_config = ExperimentConfig(ROOT_PATH, 4, Z_DIM, [N_1, N_2, N_3])\n",
    "exp_config.check_and_create_directories(run_id)\n",
    "BATCH_SIZE = exp_config.BATCH_SIZE\n",
    "DATASET_NAME = exp_config.dataset_name\n",
    "exp_config.check_and_create_directories(run_id, create=False)\n",
    "\n",
    "SPLIT_NAME = exp_config.split_name\n",
    "run_ids = [1]\n",
    "if not exp_config.check_and_create_directories(run_ids, create=False):\n",
    "    raise Exception(\"Directories does not exist\")\n",
    "DATASET_PATH_COMMON_TO_ALL_EXPERIMENTS = exp_config.DATASET_PATH_COMMON_TO_ALL_EXPERIMENTS\n",
    "# filename  = get_encoded_csv_file(N_2, N_3, Z_DIM, \"train\")\n",
    "# mean_col_names, sigma_col_names, z_col_names = get_latent_vector_column(Z_DIM)"
   ]
  },
  {
   "cell_type": "code",
   "execution_count": 9,
   "metadata": {},
   "outputs": [],
   "source": [
    "def get_base_path(root_path, z_dim, n_3, n_2, version = \"\"):\n",
    "    return os.path.join(root_path, \"Exp_{:02d}_{:03}_{:03d}_{}/\".format(z_dim, n_3, n_2, version))\n"
   ]
  },
  {
   "cell_type": "code",
   "execution_count": 10,
   "metadata": {},
   "outputs": [],
   "source": [
    "MODEL_NAME =\"VAE\"\n",
    "\n",
    "annotator = \"SUNIL\"\n",
    "num_label_files = 2\n",
    "NUMBER_OF_ROWS = 16\n",
    "NUM_DIGITS_PER_ROW = 4\n",
    "MAX_BACKUPS = 10\n",
    "ANNOTATED_CSV = \"annotation.csv\"\n",
    "last_epoch = 20\n",
    "eval_interval = 300\n",
    "\n",
    "num_label_files = 2\n",
    "num_rows_per_image = 16\n",
    "num_digits_per_row = 4\n",
    "\n"
   ]
  },
  {
   "cell_type": "code",
   "execution_count": 11,
   "metadata": {},
   "outputs": [],
   "source": [
    "def read_label(label_file):\n",
    "    labels = {}\n",
    "    for file_number in range(num_label_files):\n",
    "        label_df = pd.read_csv(label_file.format(file_number))\n",
    "        #label_df = pd.read_csv(label_file)\n",
    "        labels[file_number] = label_df[\"label\"].values\n",
    "    return labels\n",
    "\n",
    "def get_label_reconstructed(_df):\n",
    "    labels =  np.ones(num_rows_per_image * num_digits_per_row) * -2\n",
    "    _df = _df.fillna(\"xxxx\")\n",
    "    for row in _df.iterrows():\n",
    "        text_ = [-1] * num_digits_per_row\n",
    "\n",
    "        row_text_ = row[1][\"text\"]\n",
    "        if isinstance(row_text_,float):\n",
    "            row_text_ = str(row_text_)\n",
    "        row_text_ = row_text_.strip()\n",
    "        if len(row_text_) != 0:\n",
    "            if len(row_text_) < 4:\n",
    "                for i in range(4-len(row_text_)):\n",
    "                    text_[i] = 0\n",
    "            offset = 4 - len(row_text_)\n",
    "            for i,c in enumerate(row_text_):\n",
    "                if c.isdigit():\n",
    "                    text_[i+offset] = int(c)\n",
    "                elif c == 'x':\n",
    "                    text_[i+offset] = -1\n",
    "                else:\n",
    "                    raise Exception(\"Invalid character in annotated data - \",row[1][\"num_rows_annotated\"])\n",
    "\n",
    "        for i in range(num_digits_per_row)  :\n",
    "            offset = (row[1][\"num_rows_annotated\"] - 1) * num_digits_per_row\n",
    "            labels[i + offset] = text_[i]\n",
    "\n",
    "    return labels\n"
   ]
  },
  {
   "cell_type": "code",
   "execution_count": 12,
   "metadata": {},
   "outputs": [],
   "source": [
    "def _compute_accruacy(df, step, epoch, num_label_files, labels):\n",
    "    df1 = df[(df[\"epoch\"] == epoch) & (df[\"step\"] == step)]\n",
    "    labels_batch = []\n",
    "    reconstructed_batch = []\n",
    "    for image_no in range(num_label_files):\n",
    "        _df = df1[df1[\"_idx\"] == image_no]\n",
    "        if _df.shape[0] > 0 :\n",
    "            try:\n",
    "                reconstructed = get_label_reconstructed(_df[[\"num_rows_annotated\", \"text\"]])\n",
    "            except Exception as e:\n",
    "                print(\"Invalid character in annotation,epoch {:01d} , step {:01d}\".format(epoch,step))\n",
    "                print(str(e))\n",
    "                continue\n",
    "                #exit()\n",
    "            _reconstructed_indices = reconstructed != -2\n",
    "            reconstructed_batch.extend(reconstructed[_reconstructed_indices])\n",
    "            labels_batch.extend(labels[image_no][_reconstructed_indices])\n",
    "    accuracy = accuracy_score(labels_batch,reconstructed_batch)\n",
    "    return accuracy\n"
   ]
  },
  {
   "cell_type": "code",
   "execution_count": 13,
   "metadata": {},
   "outputs": [],
   "source": [
    "def get_annotations(annotated_path):\n",
    "    df = None\n",
    "    for annotation_file in os.listdir(annotated_path):\n",
    "        if annotation_file.rsplit(\".\",1)[1] == \"csv\":\n",
    "            annotation_csv = os.path.join(ANNOTATED_PATH, annotation_file)\n",
    "            _df = pd.read_csv(annotation_csv)\n",
    "            if df is None:\n",
    "                df = _df\n",
    "            else:\n",
    "                df = pd.concat([df,_df])\n",
    "    unique = df.groupby([\"epoch\",\"step\"]).size().reset_index().rename(columns={0:'count'})\n",
    "    return df,unique\n",
    "\n",
    "def compute_accuracy(labels, gt_dir, max_epoch):\n",
    "    df,unique = get_annotations(gt_dir)\n",
    "    unique = unique[unique[\"count\"] > 10]\n",
    "    \n",
    "    epochs = []\n",
    "    steps = []\n",
    "    accuracies = []\n",
    "    total_batches_finished = []\n",
    "    for unique_combination in unique.iterrows():\n",
    "        epoch = unique_combination[1][\"epoch\"]\n",
    "        step = unique_combination[1][\"step\"]\n",
    "        #print(epoch,step)\n",
    "        accuracy = _compute_accruacy(df,step,epoch, num_label_files,labels)\n",
    "        accuracies.append(accuracy)\n",
    "        total_batches_finished.append(epoch * 935 + step * eval_interval )\n",
    "    accuracy_df = pd.DataFrame({\"Total_Batches_Finished\":total_batches_finished,\"Epochs\":np.asarray(total_batches_finished)/935,\"Accuracy\":accuracies})\n",
    "    accuracy_df = accuracy_df[accuracy_df[\"Epochs\"] < max_epoch]\n",
    "    return accuracy_df\n"
   ]
  },
  {
   "cell_type": "code",
   "execution_count": 15,
   "metadata": {
    "scrolled": true
   },
   "outputs": [],
   "source": [
    "run_id = 1\n",
    "accuracy_dict =dict()\n",
    "max_epoch = 5\n",
    "#for z_dim in [20]:\n",
    "for z_dim in [5]:\n",
    "#for z_dim in [1, 2, 5, 10, 20]:\n",
    "    BASE_PATH = get_base_path(ROOT_PATH,z_dim,N_3, N_2,version=run_id)\n",
    "    DATASET_ROOT_PATH = os.path.join(BASE_PATH, DATASET_NAME+\"/\")\n",
    "    DATASET_PATH = os.path.join(DATASET_ROOT_PATH, SPLIT_NAME+\"/\")\n",
    "    MODEL_NAME_WITH_CONFIG = \"{}_{}_{:2d}_{:02d}\".format(MODEL_NAME, DATASET_NAME, BATCH_SIZE, z_dim)\n",
    "    MODEL_PATH = os.path.join(DATASET_PATH, MODEL_NAME_WITH_CONFIG)\n",
    "    SPLIT_PATH = os.path.join(DATASET_PATH_COMMON_TO_ALL_EXPERIMENTS, SPLIT_NAME + \"/\")\n",
    "    TRAINED_MODELS_PATH = os.path.join(MODEL_PATH, \"trained_models/\")\n",
    "    PREDICTION_RESULTS_PATH = os.path.join(MODEL_PATH, \"prediction_results/\")\n",
    "    ANNOTATED_PATH = DATASET_PATH + \"manual_annotation\"\n",
    "    \n",
    "    label_file = PREDICTION_RESULTS_PATH + \"/label_test_{:02d}.csv\"\n",
    "    labels = read_label(label_file)\n",
    "\n",
    "    accuracy_df = compute_accuracy(labels, ANNOTATED_PATH, max_epoch)\n",
    "    accuracy_dict[z_dim] = [max(accuracy_df[\"Accuracy\"].values),accuracy_df]\n"
   ]
  },
  {
   "cell_type": "code",
   "execution_count": 17,
   "metadata": {},
   "outputs": [
    {
     "data": {
      "image/png": "[encoded data removed]",
      "text/plain": [
       "<Figure size 1440x720 with 1 Axes>"
      ]
     },
     "metadata": {
      "needs_background": "light"
     },
     "output_type": "display_data"
    }
   ],
   "source": [
    "# TODO format the legend properly\n",
    "from matplotlib.ticker import MultipleLocator\n",
    "num_training_samples = 59872\n",
    "steps_per_epoch = num_training_samples / BATCH_SIZE\n",
    "max_steps =  max_epoch * steps_per_epoch\n",
    "plt.figure(figsize=(20,10))\n",
    "plot_filename = \"reconstruction_accuracy.jpg\"\n",
    "for z_dim, result in accuracy_dict.items():\n",
    "    max_accuracy = result[0]\n",
    "    accuracy_df = result[1]\n",
    "    x = accuracy_df[\"Epochs\"].values\n",
    "    x = x.reshape(x.shape[0])\n",
    "    y = accuracy_df[\"Accuracy\"].values\n",
    "    y = y.reshape(y.shape[0])\n",
    "    plt.plot(x, y, label=\"z_dim = {}:    Number of layers in 3rd layer ={}\".format(z_dim,N_3), lw=2)\n",
    "    plt.xlabel(\"Number of epochs\")\n",
    "    plt.ylabel(\"Reconstruction Accuracy\")\n",
    "plt.legend(loc='upper left', shadow=True, fontsize='x-large')\n",
    "plt.xlim(0,max_epoch)\n",
    "plt.ylim(0,1)\n",
    "plt.grid(which=\"both\")\n",
    "plt.axes().xaxis.set_minor_locator(MultipleLocator(0.2))\n",
    "plt.title(\"Number of Nodes in last but layer 3\".format(N_3))\n",
    "plt.savefig(os.path.join(ROOT_PATH, \"combined_analysis\", plot_filename), bbox=\"tight\") \n",
    "plt.savefig(os.path.join(DOC_PATH, plot_filename), bbox=\"tight\")"
   ]
  },
  {
   "cell_type": "code",
   "execution_count": 21,
   "metadata": {},
   "outputs": [
    {
     "name": "stdout",
     "output_type": "stream",
     "text": [
      "2 0.3828125\n",
      "5 0.6328125\n",
      "10 0.640625\n",
      "20 0.6875\n"
     ]
    }
   ],
   "source": [
    "for z_dim, result in accuracy_dict.items():\n",
    "    print(z_dim, max(result[1][\"Accuracy\"].values))"
   ]
  },
  {
   "cell_type": "code",
   "execution_count": 12,
   "metadata": {},
   "outputs": [],
   "source": [
    "accuracy_dict =dict()\n",
    "max_epoch = 5\n",
    "z_dim = 5\n",
    "run_ids = [1]\n",
    "for run_id in run_ids:\n",
    "    BASE_PATH = get_base_path(ROOT_PATH,z_dim,N_3, N_2,version=run_id)\n",
    "    DATASET_ROOT_PATH = os.path.join(BASE_PATH, DATASET_NAME+\"/\")\n",
    "    DATASET_PATH = os.path.join(DATASET_ROOT_PATH, SPLIT_NAME+\"/\")\n",
    "    MODEL_NAME_WITH_CONFIG = \"{}_{}_{:2d}_{:02d}\".format(MODEL_NAME, DATASET_NAME, BATCH_SIZE, z_dim)\n",
    "    MODEL_PATH = os.path.join(DATASET_PATH, MODEL_NAME_WITH_CONFIG)\n",
    "    SPLIT_PATH = os.path.join(DATASET_PATH_COMMON_TO_ALL_EXPERIMENTS, SPLIT_NAME + \"/\")\n",
    "    TRAINED_MODELS_PATH = os.path.join(MODEL_PATH, \"trained_models/\")\n",
    "    PREDICTION_RESULTS_PATH = os.path.join(MODEL_PATH, \"prediction_results/\")\n",
    "    ANNOTATED_PATH = DATASET_PATH + \"manual_annotation\"\n",
    "    label_file = PREDICTION_RESULTS_PATH + \"/label_test_{:02d}.csv\"\n",
    "    labels = read_label(label_file)\n",
    "\n",
    "    accuracy_df = compute_accuracy(labels, ANNOTATED_PATH, max_epoch)\n",
    "    accuracy_dict[run_id] = [max(accuracy_df[\"Accuracy\"].values),accuracy_df]\n",
    "    "
   ]
  },
  {
   "cell_type": "code",
   "execution_count": 15,
   "metadata": {},
   "outputs": [],
   "source": [
    "num_evaluations = accuracy_dict[run_ids[0]][1].shape[0]"
   ]
  },
  {
   "cell_type": "code",
   "execution_count": 16,
   "metadata": {},
   "outputs": [
    {
     "name": "stdout",
     "output_type": "stream",
     "text": [
      "1\n",
      "reconstruction_accuracy_different_runs.jpg\n"
     ]
    },
    {
     "data": {
      "image/png": "[encoded data removed]",
      "text/plain": [
       "<Figure size 1440x720 with 1 Axes>"
      ]
     },
     "metadata": {
      "needs_background": "light"
     },
     "output_type": "display_data"
    }
   ],
   "source": [
    "plt.figure(figsize=(20,10))\n",
    "plot_filename = \"reconstruction_accuracy_different_runs.jpg\"\n",
    "total = np.zeros(num_evaluations)\n",
    "for run_id, result in accuracy_dict.items():\n",
    "    max_accuracy = result[0]\n",
    "    accuracy_df = result[1]\n",
    "    x = accuracy_df[\"Epochs\"].values\n",
    "    x = x.reshape(x.shape[0])\n",
    "    y = accuracy_df[\"Accuracy\"].values\n",
    "    y = y.reshape(y.shape[0])\n",
    "\n",
    "    plt.plot(x,y,label=\"run_id={}\".format(run_id),lw=2)\n",
    "    plt.xlabel(\"Number of epochs\")\n",
    "    plt.ylabel(\"Validation Accuracy\")\n",
    "    print(run_id)\n",
    "    total = total + y\n",
    "average = total / len(run_ids)\n",
    "plt.plot(x, average,label = \"Average\")\n",
    "\n",
    "plt.legend(loc='upper left', shadow=True, fontsize='x-large')\n",
    "print(plot_filename)\n",
    "plt.xlim(0,max_epoch)\n",
    "plt.ylim(0,1)\n",
    "plt.grid(which=\"both\")\n",
    "plt.axes().xaxis.set_minor_locator(MultipleLocator(0.2))\n",
    "plt.savefig(os.path.join(ROOT_PATH,\"combined_analysis\",plot_filename),bbox=\"tight\") \n",
    "plt.savefig(os.path.join(DOC_PATH,plot_filename), bbox=\"tight\")"
   ]
  },
  {
   "cell_type": "code",
   "execution_count": 16,
   "metadata": {},
   "outputs": [
    {
     "name": "stdout",
     "output_type": "stream",
     "text": [
      "0.6328125\n"
     ]
    }
   ],
   "source": [
    "print(max(average))"
   ]
  },
  {
   "cell_type": "code",
   "execution_count": null,
   "metadata": {},
   "outputs": [],
   "source": [
    "for run_id, result in accuracy_dict.items():\n",
    "    accuracy = result[1][\"Accuracy\"].values\n",
    "    max_index = np.argmax(accuracy)\n",
    "    print(run_id, result[1][\"Total_Batches_Finished\"].values[max_index], \n",
    "          result[1][\"Epochs\"].values[max_index],\n",
    "          max(accuracy), max_index)"
   ]
  },
  {
   "cell_type": "code",
   "execution_count": null,
   "metadata": {},
   "outputs": [],
   "source": [
    "result[0]"
   ]
  },
  {
   "cell_type": "code",
   "execution_count": null,
   "metadata": {},
   "outputs": [],
   "source": [
    "result[1]"
   ]
  },
  {
   "cell_type": "code",
   "execution_count": null,
   "metadata": {},
   "outputs": [],
   "source": []
  },
  {
   "cell_type": "code",
   "execution_count": null,
   "metadata": {},
   "outputs": [],
   "source": []
  }
 ],
 "metadata": {
  "kernelspec": {
   "display_name": "Python 3",
   "language": "python",
   "name": "python3"
  },
  "language_info": {
   "codemirror_mode": {
    "name": "ipython",
    "version": 3
   },
   "file_extension": ".py",
   "mimetype": "text/x-python",
   "name": "python",
   "nbconvert_exporter": "python",
   "pygments_lexer": "ipython3",
   "version": "3.7.4"
  }
 },
 "nbformat": 4,
 "nbformat_minor": 2
}
