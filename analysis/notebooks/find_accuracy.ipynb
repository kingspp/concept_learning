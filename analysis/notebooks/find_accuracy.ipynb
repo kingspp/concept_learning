{
 "cells": [
  {
   "cell_type": "code",
   "execution_count": 1,
   "metadata": {},
   "outputs": [
    {
     "name": "stderr",
     "output_type": "stream",
     "text": [
      "/usr/local/lib/python3.7/site-packages/dask/config.py:131: YAMLLoadWarning: calling yaml.load() without Loader=... is deprecated, as the default Loader is unsafe. Please read https://msg.pyyaml.org/load for full details.\n",
      "  data = yaml.load(f.read()) or {}\n"
     ]
    }
   ],
   "source": [
    "from matplotlib import pyplot as plt\n",
    "import os\n",
    "import pandas as pd\n",
    "import numpy as np\n",
    "import math\n",
    "from sklearn.metrics import accuracy_score\n",
    "from config import ExperimentConfig\n",
    "from experiments.experiment import Experiment\n",
    "#from config.common_path import get_ba\n",
    "%matplotlib inline\n"
   ]
  },
  {
   "cell_type": "code",
   "execution_count": 2,
   "metadata": {},
   "outputs": [],
   "source": [
    "run_id = 8\n",
    "ROOT_PATH = \"/Users/sunilkumar/concept_learning/image_classification/\"\n",
    "config1 = ExperimentConfig(ROOT_PATH, 4, 10, [64, 128, 32])\n",
    "config2 = ExperimentConfig(ROOT_PATH, 4, 5, [64, 128, 32])\n",
    "exp_config = config1\n",
    "N_3 = exp_config.num_units[exp_config.num_decoder_layer - 2]\n",
    "N_2 = exp_config.num_units[exp_config.num_decoder_layer - 3]\n",
    "Z_DIM = exp_config.Z_DIM\n",
    "BATCH_SIZE = exp_config.BATCH_SIZE\n",
    "DATASET_NAME = exp_config.dataset_name\n",
    "SPLIT_NAME = exp_config.split_name\n",
    "exp_config.create_directories(run_id)\n",
    "DATASET_PATH_COMMON_TO_ALL_EXPERIMENTS = exp_config.DATASET_PATH_COMMON_TO_ALL_EXPERIMENTS\n",
    "# filename  = get_encoded_csv_file(N_2, N_3, Z_DIM, \"train\")\n",
    "# mean_col_names, sigma_col_names, z_col_names = get_latent_vector_column(Z_DIM)"
   ]
  },
  {
   "cell_type": "code",
   "execution_count": 3,
   "metadata": {},
   "outputs": [],
   "source": [
    "def get_base_path(root_path, z_dim, n_3, n_2, version = \"\"):\n",
    "    return os.path.join(root_path, \"Exp_{:02d}_{:03}_{:03d}_{}/\".format(z_dim, n_3, n_2, version))\n"
   ]
  },
  {
   "cell_type": "code",
   "execution_count": 4,
   "metadata": {},
   "outputs": [],
   "source": [
    "MODEL_NAME =\"VAE\"\n",
    "\n",
    "annotator = \"SUNIL\"\n",
    "num_files = 2\n",
    "NUMBER_OF_ROWS = 16\n",
    "NUM_DIGITS_PER_ROW = 4\n",
    "MAX_BACKUPS = 10\n",
    "ANNOTATED_CSV = \"annotation.csv\"\n",
    "last_epoch = 20\n",
    "eval_interval = 300\n",
    "\n",
    "num_images = 2\n",
    "num_rows_per_image = 16\n",
    "num_digits_per_row = 4\n",
    "\n"
   ]
  },
  {
   "cell_type": "code",
   "execution_count": 5,
   "metadata": {},
   "outputs": [],
   "source": [
    "def read_label(label_file):\n",
    "    labels = {}\n",
    "    for file_number in range(num_files):\n",
    "        label_df = pd.read_csv(label_file.format(file_number))\n",
    "        #label_df = pd.read_csv(label_file)\n",
    "        labels[file_number] = label_df[\"label\"].values\n",
    "    return labels\n",
    "\n",
    "def get_label_reconstructed(_df):\n",
    "    labels =  np.ones(num_rows_per_image * num_digits_per_row) * -2\n",
    "    _df = _df.fillna(\"xxxx\")\n",
    "    for row in _df.iterrows():\n",
    "        text_ = [-1] * num_digits_per_row\n",
    "\n",
    "        row_text_ = row[1][\"text\"]\n",
    "        if isinstance(row_text_,float):\n",
    "            row_text_ = str(row_text_)\n",
    "        row_text_ = row_text_.strip()\n",
    "        if len(row_text_) != 0:\n",
    "            if len(row_text_) < 4:\n",
    "                for i in range(4-len(row_text_)):\n",
    "                    text_[i] = 0\n",
    "            offset = 4 - len(row_text_)\n",
    "            for i,c in enumerate(row_text_):\n",
    "                if c.isdigit():\n",
    "                    text_[i+offset] = int(c)\n",
    "                elif c == 'x':\n",
    "                    text_[i+offset] = -1\n",
    "                else:\n",
    "                    raise Exception(\"Invalid character in annotated data - \",row[1][\"num_rows_annotated\"])\n",
    "\n",
    "        for i in range(num_digits_per_row)  :\n",
    "            offset = (row[1][\"num_rows_annotated\"] - 1) * num_digits_per_row\n",
    "            labels[i + offset] = text_[i]\n",
    "\n",
    "    return labels\n"
   ]
  },
  {
   "cell_type": "code",
   "execution_count": 6,
   "metadata": {},
   "outputs": [],
   "source": [
    "def compute_accruacy(df,step,epoch,num_images):\n",
    "    df1 = df[(df[\"epoch\"] == epoch) & (df[\"step\"] == step)]\n",
    "    labels_batch = []\n",
    "    reconstructed_batch = []\n",
    "    for image_no in range(num_images):\n",
    "        _df = df1[df1[\"_idx\"] == image_no]\n",
    "        if _df.shape[0] > 0 :\n",
    "            try:\n",
    "                reconstructed = get_label_reconstructed(_df[[\"num_rows_annotated\", \"text\"]])\n",
    "            except Exception as e:\n",
    "                print(\"Invalid character in annotation,epoch {:01d} , step {:01d}\".format(epoch,step))\n",
    "                print(str(e))\n",
    "                continue\n",
    "                #exit()\n",
    "            _reconstructed_indices = reconstructed != -2\n",
    "            reconstructed_batch.extend(reconstructed[_reconstructed_indices])\n",
    "            labels_batch.extend(labels[image_no][_reconstructed_indices])\n",
    "    accuracy = accuracy_score(labels_batch,reconstructed_batch)\n",
    "    return accuracy\n"
   ]
  },
  {
   "cell_type": "code",
   "execution_count": 7,
   "metadata": {},
   "outputs": [],
   "source": [
    "def get_annotations(annotated_path):\n",
    "    df = None\n",
    "    for annotation_file in os.listdir(annotated_path):\n",
    "        if annotation_file.rsplit(\".\",1)[1] == \"csv\":\n",
    "            annotation_csv = os.path.join(ANNOTATED_PATH, annotation_file)\n",
    "            _df = pd.read_csv(annotation_csv)\n",
    "            if df is None:\n",
    "                df = _df\n",
    "            else:\n",
    "                df = pd.concat([df,_df])\n",
    "\n",
    "    unique = df.groupby([\"epoch\",\"step\"]).size().reset_index().rename(columns={0:'count'})\n",
    "    return df,unique\n"
   ]
  },
  {
   "cell_type": "code",
   "execution_count": 11,
   "metadata": {},
   "outputs": [
    {
     "name": "stdout",
     "output_type": "stream",
     "text": [
      "Invalid character in annotation,epoch 28 , step 2\n",
      "('Invalid character in annotated data - ', 2)\n",
      "/Users/sunilkumar/concept_learning/image_classification/combined_analysis/accuracy.png\n"
     ]
    },
    {
     "data": {
      "image/png": "[encoded data removed]",
      "text/plain": [
       "<Figure size 1440x720 with 1 Axes>"
      ]
     },
     "metadata": {
      "needs_background": "light"
     },
     "output_type": "display_data"
    }
   ],
   "source": [
    "run_id =  8\n",
    "z_dim = 10\n",
    "plt.figure(figsize=(20,10))\n",
    "accuracy_dict =dict()\n",
    "N_3 = 32\n",
    "N_2 =  128\n",
    "#for version in [\"\",\"_old\"]:\n",
    "#for z_dim in [10]:\n",
    "# BASE_PATH_1 = get_base_path(ROOT_PATH,z_dim,N_3, N_2,version=1)\n",
    "# BASE_PATH_2 = get_base_path(ROOT_PATH,z_dim,N_3, N_2,version=2)\n",
    "# BASE_PATH_3 = get_base_path(ROOT_PATH,z_dim,N_3, N_2,version=3)\n",
    "\n",
    "\n",
    "BASE_PATH_4 = \"/Users/sunilkumar/concept_learning/image_classification/Exp_10_032_128_1\"\n",
    "BASE_PATH_5 = \"/Users/sunilkumar/concept_learning/image_classification/Exp_10_032_128_6\"\n",
    "# BASE_PATH_6 = \"/Users/sunilkumar/concept_learning/image_classification_old/Exp_10_032_128/\"\n",
    "# BASE_PATH_7 = \"/Users/sunilkumar/concept_learning/image_classification_old/Exp_10_032_128_old/\"\n",
    "#BASE_PATH = \"/Users/sunilkumar/concept_learning/image_classification/Exp_10_032_128_1\"\n",
    "\n",
    "#for BASE_PATH in [BASE_PATH_4,BASE_PATH_5]:\n",
    "#for run_id in [1,2,3]:\n",
    "#for BASE_PATH in [BASE_PATH_1,BASE_PATH_2,BASE_PATH_3,BASE_PATH_4,BASE_PATH_5,BASE_PATH_6]:\n",
    "for run_id in [8]:\n",
    "    BASE_PATH = get_base_path(ROOT_PATH,z_dim,N_3, N_2,version=run_id)\n",
    "    DATASET_ROOT_PATH = os.path.join(BASE_PATH,DATASET_NAME+\"/\")\n",
    "    DATASET_PATH = os.path.join(DATASET_ROOT_PATH, SPLIT_NAME+\"/\")\n",
    "    MODEL_NAME_WITH_CONFIG = \"{}_{}_{:2d}_{:02d}\".format(MODEL_NAME, DATASET_NAME, BATCH_SIZE, z_dim)\n",
    "\n",
    "    \n",
    "    MODEL_PATH = os.path.join(DATASET_PATH, MODEL_NAME_WITH_CONFIG)\n",
    "    SPLIT_PATH = os.path.join(DATASET_PATH_COMMON_TO_ALL_EXPERIMENTS, SPLIT_NAME + \"/\")\n",
    "    TRAINED_MODELS_PATH = os.path.join(MODEL_PATH, \"trained_models/\")\n",
    "    PREDICTION_RESULTS_PATH = os.path.join(MODEL_PATH, \"prediction_results/\")\n",
    "\n",
    "    if annotator == \"SUNIL\":\n",
    "        ANNOTATED_PATH = DATASET_PATH + \"manual_annotation_sunil\"\n",
    "    elif annotator == \"VIJAY\":\n",
    "        BASE_PATH = \"/home/test/\"\n",
    "        ANNOTATED_PATH = DATASET_PATH + \"manual_annotation_vijay\"\n",
    "    else:\n",
    "        raise Exception(\"Only two annotators {} and {} are allowed now\".format(\"SUNIL\", \"VIJAY\"))\n",
    "        \n",
    "        \n",
    "    label_file = PREDICTION_RESULTS_PATH + \"/label_test_{:02d}.csv\"\n",
    "    labels = read_label(label_file)\n",
    "\n",
    "    df,unique = get_annotations(ANNOTATED_PATH)\n",
    "    unique = unique[unique[\"count\"] > 10]\n",
    "    \n",
    "    epochs = []\n",
    "    steps = []\n",
    "    accuracies = []\n",
    "    total_batches_finished = []\n",
    "    for unique_combination in unique.iterrows():\n",
    "        epoch = unique_combination[1][\"epoch\"]\n",
    "        step = unique_combination[1][\"step\"]\n",
    "        accuracy = compute_accruacy(df,step,epoch,num_images)\n",
    "        accuracies.append(accuracy)\n",
    "        total_batches_finished.append(epoch * 900 + step * eval_interval )\n",
    "\n",
    "    accuracy_df = pd.DataFrame({\"Total_Batches_Finished\":total_batches_finished,\"Accuracy\":accuracies})\n",
    "\n",
    "    x = accuracy_df[\"Total_Batches_Finished\"].values\n",
    "    x = x.reshape(x.shape[0])\n",
    "    y = accuracy_df[\"Accuracy\"].values\n",
    "    y = y.reshape(y.shape[0])\n",
    "    legend = \"run_id={}\".format(run_id)\n",
    "\n",
    "    plt.plot(x,y,label=run_id,lw=2)\n",
    "    plt.xlabel(\"Number of batches\")\n",
    "    plt.ylabel(\"Validation Accuracy\")\n",
    "    accuracy_dict[z_dim] = max(accuracies)\n",
    "#legends = [\"z_dim={}\".format(dim) for  dim in z_dims]\n",
    "#print(legends)\n",
    "#plt.legend([legends])\n",
    "#legend = ax.legend(loc='upper center', shadow=True, fontsize='x-large')\n",
    "plt.legend(loc='upper left', shadow=True, fontsize='x-large')\n",
    "plot_filename = ROOT_PATH +\"combined_analysis/\" + \"accuracy.png\"\n",
    "plt.title(\"N_3 = {}\".format(N_3))\n",
    "print(plot_filename)\n",
    "plt.savefig(plot_filename,bbox=\"tight\")\n"
   ]
  },
  {
   "cell_type": "code",
   "execution_count": 10,
   "metadata": {},
   "outputs": [
    {
     "data": {
      "text/plain": [
       "{10: 0.875}"
      ]
     },
     "execution_count": 10,
     "metadata": {},
     "output_type": "execute_result"
    }
   ],
   "source": [
    "accuracy_dict"
   ]
  },
  {
   "cell_type": "code",
   "execution_count": 12,
   "metadata": {},
   "outputs": [
    {
     "data": {
      "text/html": [
       "<div>\n",
       "<style scoped>\n",
       "    .dataframe tbody tr th:only-of-type {\n",
       "        vertical-align: middle;\n",
       "    }\n",
       "\n",
       "    .dataframe tbody tr th {\n",
       "        vertical-align: top;\n",
       "    }\n",
       "\n",
       "    .dataframe thead th {\n",
       "        text-align: right;\n",
       "    }\n",
       "</style>\n",
       "<table border=\"1\" class=\"dataframe\">\n",
       "  <thead>\n",
       "    <tr style=\"text-align: right;\">\n",
       "      <th></th>\n",
       "      <th>Total_Batches_Finished</th>\n",
       "      <th>Accuracy</th>\n",
       "    </tr>\n",
       "  </thead>\n",
       "  <tbody>\n",
       "    <tr>\n",
       "      <th>0</th>\n",
       "      <td>25500</td>\n",
       "      <td>0.851562</td>\n",
       "    </tr>\n",
       "    <tr>\n",
       "      <th>1</th>\n",
       "      <td>25800</td>\n",
       "      <td>0.812500</td>\n",
       "    </tr>\n",
       "    <tr>\n",
       "      <th>2</th>\n",
       "      <td>26100</td>\n",
       "      <td>0.875000</td>\n",
       "    </tr>\n",
       "    <tr>\n",
       "      <th>3</th>\n",
       "      <td>44400</td>\n",
       "      <td>0.820312</td>\n",
       "    </tr>\n",
       "    <tr>\n",
       "      <th>4</th>\n",
       "      <td>44700</td>\n",
       "      <td>0.843750</td>\n",
       "    </tr>\n",
       "  </tbody>\n",
       "</table>\n",
       "</div>"
      ],
      "text/plain": [
       "   Total_Batches_Finished  Accuracy\n",
       "0                   25500  0.851562\n",
       "1                   25800  0.812500\n",
       "2                   26100  0.875000\n",
       "3                   44400  0.820312\n",
       "4                   44700  0.843750"
      ]
     },
     "execution_count": 12,
     "metadata": {},
     "output_type": "execute_result"
    }
   ],
   "source": [
    "accuracy_df.head()"
   ]
  },
  {
   "cell_type": "code",
   "execution_count": 7,
   "metadata": {},
   "outputs": [
    {
     "ename": "FileNotFoundError",
     "evalue": "File b'/Users/sunilkumar/concept_learning/image_classification/Exp_10_032_064/mnist/Split_1/VAE_mnist_64_10/prediction_results//label_test_00.csv' does not exist",
     "output_type": "error",
     "traceback": [
      "\u001b[0;31m---------------------------------------------------------------------------\u001b[0m",
      "\u001b[0;31mFileNotFoundError\u001b[0m                         Traceback (most recent call last)",
      "\u001b[0;32m<ipython-input-7-105ffa588d00>\u001b[0m in \u001b[0;36m<module>\u001b[0;34m\u001b[0m\n\u001b[1;32m     27\u001b[0m \u001b[0;34m\u001b[0m\u001b[0m\n\u001b[1;32m     28\u001b[0m     \u001b[0mlabel_file\u001b[0m \u001b[0;34m=\u001b[0m \u001b[0mPREDICTION_RESULTS_PATH\u001b[0m \u001b[0;34m+\u001b[0m \u001b[0;34m\"/label_test_{:02d}.csv\"\u001b[0m\u001b[0;34m\u001b[0m\u001b[0;34m\u001b[0m\u001b[0m\n\u001b[0;32m---> 29\u001b[0;31m     \u001b[0mlabels\u001b[0m \u001b[0;34m=\u001b[0m \u001b[0mread_label\u001b[0m\u001b[0;34m(\u001b[0m\u001b[0mlabel_file\u001b[0m\u001b[0;34m)\u001b[0m\u001b[0;34m\u001b[0m\u001b[0;34m\u001b[0m\u001b[0m\n\u001b[0m\u001b[1;32m     30\u001b[0m \u001b[0;34m\u001b[0m\u001b[0m\n\u001b[1;32m     31\u001b[0m     \u001b[0mdf\u001b[0m\u001b[0;34m,\u001b[0m\u001b[0munique\u001b[0m \u001b[0;34m=\u001b[0m \u001b[0mget_annotations\u001b[0m\u001b[0;34m(\u001b[0m\u001b[0mANNOTATED_PATH\u001b[0m\u001b[0;34m)\u001b[0m\u001b[0;34m\u001b[0m\u001b[0;34m\u001b[0m\u001b[0m\n",
      "\u001b[0;32m<ipython-input-3-6baa4be96706>\u001b[0m in \u001b[0;36mread_label\u001b[0;34m(label_file)\u001b[0m\n\u001b[1;32m      2\u001b[0m     \u001b[0mlabels\u001b[0m \u001b[0;34m=\u001b[0m \u001b[0;34m{\u001b[0m\u001b[0;34m}\u001b[0m\u001b[0;34m\u001b[0m\u001b[0;34m\u001b[0m\u001b[0m\n\u001b[1;32m      3\u001b[0m     \u001b[0;32mfor\u001b[0m \u001b[0mfile_number\u001b[0m \u001b[0;32min\u001b[0m \u001b[0mrange\u001b[0m\u001b[0;34m(\u001b[0m\u001b[0mnum_files\u001b[0m\u001b[0;34m)\u001b[0m\u001b[0;34m:\u001b[0m\u001b[0;34m\u001b[0m\u001b[0;34m\u001b[0m\u001b[0m\n\u001b[0;32m----> 4\u001b[0;31m         \u001b[0mlabel_df\u001b[0m \u001b[0;34m=\u001b[0m \u001b[0mpd\u001b[0m\u001b[0;34m.\u001b[0m\u001b[0mread_csv\u001b[0m\u001b[0;34m(\u001b[0m\u001b[0mlabel_file\u001b[0m\u001b[0;34m.\u001b[0m\u001b[0mformat\u001b[0m\u001b[0;34m(\u001b[0m\u001b[0mfile_number\u001b[0m\u001b[0;34m)\u001b[0m\u001b[0;34m)\u001b[0m\u001b[0;34m\u001b[0m\u001b[0;34m\u001b[0m\u001b[0m\n\u001b[0m\u001b[1;32m      5\u001b[0m         \u001b[0;31m#label_df = pd.read_csv(label_file)\u001b[0m\u001b[0;34m\u001b[0m\u001b[0;34m\u001b[0m\u001b[0;34m\u001b[0m\u001b[0m\n\u001b[1;32m      6\u001b[0m         \u001b[0mlabels\u001b[0m\u001b[0;34m[\u001b[0m\u001b[0mfile_number\u001b[0m\u001b[0;34m]\u001b[0m \u001b[0;34m=\u001b[0m \u001b[0mlabel_df\u001b[0m\u001b[0;34m[\u001b[0m\u001b[0;34m\"label\"\u001b[0m\u001b[0;34m]\u001b[0m\u001b[0;34m.\u001b[0m\u001b[0mvalues\u001b[0m\u001b[0;34m\u001b[0m\u001b[0;34m\u001b[0m\u001b[0m\n",
      "\u001b[0;32m/usr/local/lib/python3.7/site-packages/pandas/io/parsers.py\u001b[0m in \u001b[0;36mparser_f\u001b[0;34m(filepath_or_buffer, sep, delimiter, header, names, index_col, usecols, squeeze, prefix, mangle_dupe_cols, dtype, engine, converters, true_values, false_values, skipinitialspace, skiprows, nrows, na_values, keep_default_na, na_filter, verbose, skip_blank_lines, parse_dates, infer_datetime_format, keep_date_col, date_parser, dayfirst, iterator, chunksize, compression, thousands, decimal, lineterminator, quotechar, quoting, escapechar, comment, encoding, dialect, tupleize_cols, error_bad_lines, warn_bad_lines, skipfooter, doublequote, delim_whitespace, low_memory, memory_map, float_precision)\u001b[0m\n\u001b[1;32m    676\u001b[0m                     skip_blank_lines=skip_blank_lines)\n\u001b[1;32m    677\u001b[0m \u001b[0;34m\u001b[0m\u001b[0m\n\u001b[0;32m--> 678\u001b[0;31m         \u001b[0;32mreturn\u001b[0m \u001b[0m_read\u001b[0m\u001b[0;34m(\u001b[0m\u001b[0mfilepath_or_buffer\u001b[0m\u001b[0;34m,\u001b[0m \u001b[0mkwds\u001b[0m\u001b[0;34m)\u001b[0m\u001b[0;34m\u001b[0m\u001b[0;34m\u001b[0m\u001b[0m\n\u001b[0m\u001b[1;32m    679\u001b[0m \u001b[0;34m\u001b[0m\u001b[0m\n\u001b[1;32m    680\u001b[0m     \u001b[0mparser_f\u001b[0m\u001b[0;34m.\u001b[0m\u001b[0m__name__\u001b[0m \u001b[0;34m=\u001b[0m \u001b[0mname\u001b[0m\u001b[0;34m\u001b[0m\u001b[0;34m\u001b[0m\u001b[0m\n",
      "\u001b[0;32m/usr/local/lib/python3.7/site-packages/pandas/io/parsers.py\u001b[0m in \u001b[0;36m_read\u001b[0;34m(filepath_or_buffer, kwds)\u001b[0m\n\u001b[1;32m    438\u001b[0m \u001b[0;34m\u001b[0m\u001b[0m\n\u001b[1;32m    439\u001b[0m     \u001b[0;31m# Create the parser.\u001b[0m\u001b[0;34m\u001b[0m\u001b[0;34m\u001b[0m\u001b[0;34m\u001b[0m\u001b[0m\n\u001b[0;32m--> 440\u001b[0;31m     \u001b[0mparser\u001b[0m \u001b[0;34m=\u001b[0m \u001b[0mTextFileReader\u001b[0m\u001b[0;34m(\u001b[0m\u001b[0mfilepath_or_buffer\u001b[0m\u001b[0;34m,\u001b[0m \u001b[0;34m**\u001b[0m\u001b[0mkwds\u001b[0m\u001b[0;34m)\u001b[0m\u001b[0;34m\u001b[0m\u001b[0;34m\u001b[0m\u001b[0m\n\u001b[0m\u001b[1;32m    441\u001b[0m \u001b[0;34m\u001b[0m\u001b[0m\n\u001b[1;32m    442\u001b[0m     \u001b[0;32mif\u001b[0m \u001b[0mchunksize\u001b[0m \u001b[0;32mor\u001b[0m \u001b[0miterator\u001b[0m\u001b[0;34m:\u001b[0m\u001b[0;34m\u001b[0m\u001b[0;34m\u001b[0m\u001b[0m\n",
      "\u001b[0;32m/usr/local/lib/python3.7/site-packages/pandas/io/parsers.py\u001b[0m in \u001b[0;36m__init__\u001b[0;34m(self, f, engine, **kwds)\u001b[0m\n\u001b[1;32m    785\u001b[0m             \u001b[0mself\u001b[0m\u001b[0;34m.\u001b[0m\u001b[0moptions\u001b[0m\u001b[0;34m[\u001b[0m\u001b[0;34m'has_index_names'\u001b[0m\u001b[0;34m]\u001b[0m \u001b[0;34m=\u001b[0m \u001b[0mkwds\u001b[0m\u001b[0;34m[\u001b[0m\u001b[0;34m'has_index_names'\u001b[0m\u001b[0;34m]\u001b[0m\u001b[0;34m\u001b[0m\u001b[0;34m\u001b[0m\u001b[0m\n\u001b[1;32m    786\u001b[0m \u001b[0;34m\u001b[0m\u001b[0m\n\u001b[0;32m--> 787\u001b[0;31m         \u001b[0mself\u001b[0m\u001b[0;34m.\u001b[0m\u001b[0m_make_engine\u001b[0m\u001b[0;34m(\u001b[0m\u001b[0mself\u001b[0m\u001b[0;34m.\u001b[0m\u001b[0mengine\u001b[0m\u001b[0;34m)\u001b[0m\u001b[0;34m\u001b[0m\u001b[0;34m\u001b[0m\u001b[0m\n\u001b[0m\u001b[1;32m    788\u001b[0m \u001b[0;34m\u001b[0m\u001b[0m\n\u001b[1;32m    789\u001b[0m     \u001b[0;32mdef\u001b[0m \u001b[0mclose\u001b[0m\u001b[0;34m(\u001b[0m\u001b[0mself\u001b[0m\u001b[0;34m)\u001b[0m\u001b[0;34m:\u001b[0m\u001b[0;34m\u001b[0m\u001b[0;34m\u001b[0m\u001b[0m\n",
      "\u001b[0;32m/usr/local/lib/python3.7/site-packages/pandas/io/parsers.py\u001b[0m in \u001b[0;36m_make_engine\u001b[0;34m(self, engine)\u001b[0m\n\u001b[1;32m   1012\u001b[0m     \u001b[0;32mdef\u001b[0m \u001b[0m_make_engine\u001b[0m\u001b[0;34m(\u001b[0m\u001b[0mself\u001b[0m\u001b[0;34m,\u001b[0m \u001b[0mengine\u001b[0m\u001b[0;34m=\u001b[0m\u001b[0;34m'c'\u001b[0m\u001b[0;34m)\u001b[0m\u001b[0;34m:\u001b[0m\u001b[0;34m\u001b[0m\u001b[0;34m\u001b[0m\u001b[0m\n\u001b[1;32m   1013\u001b[0m         \u001b[0;32mif\u001b[0m \u001b[0mengine\u001b[0m \u001b[0;34m==\u001b[0m \u001b[0;34m'c'\u001b[0m\u001b[0;34m:\u001b[0m\u001b[0;34m\u001b[0m\u001b[0;34m\u001b[0m\u001b[0m\n\u001b[0;32m-> 1014\u001b[0;31m             \u001b[0mself\u001b[0m\u001b[0;34m.\u001b[0m\u001b[0m_engine\u001b[0m \u001b[0;34m=\u001b[0m \u001b[0mCParserWrapper\u001b[0m\u001b[0;34m(\u001b[0m\u001b[0mself\u001b[0m\u001b[0;34m.\u001b[0m\u001b[0mf\u001b[0m\u001b[0;34m,\u001b[0m \u001b[0;34m**\u001b[0m\u001b[0mself\u001b[0m\u001b[0;34m.\u001b[0m\u001b[0moptions\u001b[0m\u001b[0;34m)\u001b[0m\u001b[0;34m\u001b[0m\u001b[0;34m\u001b[0m\u001b[0m\n\u001b[0m\u001b[1;32m   1015\u001b[0m         \u001b[0;32melse\u001b[0m\u001b[0;34m:\u001b[0m\u001b[0;34m\u001b[0m\u001b[0;34m\u001b[0m\u001b[0m\n\u001b[1;32m   1016\u001b[0m             \u001b[0;32mif\u001b[0m \u001b[0mengine\u001b[0m \u001b[0;34m==\u001b[0m \u001b[0;34m'python'\u001b[0m\u001b[0;34m:\u001b[0m\u001b[0;34m\u001b[0m\u001b[0;34m\u001b[0m\u001b[0m\n",
      "\u001b[0;32m/usr/local/lib/python3.7/site-packages/pandas/io/parsers.py\u001b[0m in \u001b[0;36m__init__\u001b[0;34m(self, src, **kwds)\u001b[0m\n\u001b[1;32m   1706\u001b[0m         \u001b[0mkwds\u001b[0m\u001b[0;34m[\u001b[0m\u001b[0;34m'usecols'\u001b[0m\u001b[0;34m]\u001b[0m \u001b[0;34m=\u001b[0m \u001b[0mself\u001b[0m\u001b[0;34m.\u001b[0m\u001b[0musecols\u001b[0m\u001b[0;34m\u001b[0m\u001b[0;34m\u001b[0m\u001b[0m\n\u001b[1;32m   1707\u001b[0m \u001b[0;34m\u001b[0m\u001b[0m\n\u001b[0;32m-> 1708\u001b[0;31m         \u001b[0mself\u001b[0m\u001b[0;34m.\u001b[0m\u001b[0m_reader\u001b[0m \u001b[0;34m=\u001b[0m \u001b[0mparsers\u001b[0m\u001b[0;34m.\u001b[0m\u001b[0mTextReader\u001b[0m\u001b[0;34m(\u001b[0m\u001b[0msrc\u001b[0m\u001b[0;34m,\u001b[0m \u001b[0;34m**\u001b[0m\u001b[0mkwds\u001b[0m\u001b[0;34m)\u001b[0m\u001b[0;34m\u001b[0m\u001b[0;34m\u001b[0m\u001b[0m\n\u001b[0m\u001b[1;32m   1709\u001b[0m \u001b[0;34m\u001b[0m\u001b[0m\n\u001b[1;32m   1710\u001b[0m         \u001b[0mpassed_names\u001b[0m \u001b[0;34m=\u001b[0m \u001b[0mself\u001b[0m\u001b[0;34m.\u001b[0m\u001b[0mnames\u001b[0m \u001b[0;32mis\u001b[0m \u001b[0;32mNone\u001b[0m\u001b[0;34m\u001b[0m\u001b[0;34m\u001b[0m\u001b[0m\n",
      "\u001b[0;32mpandas/_libs/parsers.pyx\u001b[0m in \u001b[0;36mpandas._libs.parsers.TextReader.__cinit__\u001b[0;34m()\u001b[0m\n",
      "\u001b[0;32mpandas/_libs/parsers.pyx\u001b[0m in \u001b[0;36mpandas._libs.parsers.TextReader._setup_parser_source\u001b[0;34m()\u001b[0m\n",
      "\u001b[0;31mFileNotFoundError\u001b[0m: File b'/Users/sunilkumar/concept_learning/image_classification/Exp_10_032_064/mnist/Split_1/VAE_mnist_64_10/prediction_results//label_test_00.csv' does not exist"
     ]
    },
    {
     "data": {
      "text/plain": [
       "<Figure size 1440x720 with 0 Axes>"
      ]
     },
     "metadata": {},
     "output_type": "display_data"
    }
   ],
   "source": [
    "z_dim = 10\n",
    "\n",
    "plt.figure(figsize=(20, 10))\n",
    "accuracy_dict =dict()\n",
    "N_3 = 32\n",
    "N_2 = 128\n",
    "#for N_3 in [16,32]:\n",
    "for N_2 in [64,128]:\n",
    "    BASE_PATH = get_base_path(z_dim, N_3, N_2)\n",
    "    DATASET_ROOT_PATH = os.path.join(BASE_PATH, DATASET_NAME + \"/\")\n",
    "    DATASET_PATH = os.path.join(DATASET_ROOT_PATH, SPLIT_NAME + \"/\")\n",
    "    MODEL_NAME_WITH_CONFIG = \"{}_{}_{:2d}_{:02d}\".format(MODEL_NAME, DATASET_NAME, BATCH_SIZE, z_dim)\n",
    "\n",
    "    MODEL_PATH = os.path.join(DATASET_PATH, MODEL_NAME_WITH_CONFIG)\n",
    "    SPLIT_PATH = os.path.join(DATASET_PATH_COMMON_TO_ALL_EXPERIMENTS, SPLIT_NAME + \"/\")\n",
    "    TRAINED_MODELS_PATH = os.path.join(MODEL_PATH, \"trained_models/\")\n",
    "    PREDICTION_RESULTS_PATH = os.path.join(MODEL_PATH, \"prediction_results/\")\n",
    "\n",
    "    if annotator == \"SUNIL\":\n",
    "        ANNOTATED_PATH = DATASET_PATH + \"manual_annotation_sunil\"\n",
    "    elif annotator == \"VIJAY\":\n",
    "        BASE_PATH = \"/home/test/\"\n",
    "        ANNOTATED_PATH = DATASET_PATH + \"manual_annotation_vijay\"\n",
    "    else:\n",
    "        raise Exception(\"Only two annotators {} and {} are allowed now\".format(\"SUNIL\", \"VIJAY\"))\n",
    "        \n",
    "        \n",
    "    label_file = PREDICTION_RESULTS_PATH + \"/label_test_{:02d}.csv\"\n",
    "    labels = read_label(label_file)\n",
    "    \n",
    "    df,unique = get_annotations(ANNOTATED_PATH)\n",
    "    unique = unique[unique[\"count\"] > 10]\n",
    "    \n",
    "    epochs = []\n",
    "    steps = []\n",
    "    accuracies = []\n",
    "    total_batches_finished = []\n",
    "    for unique_combination in unique.iterrows():\n",
    "        epoch = unique_combination[1][\"epoch\"]\n",
    "        step = unique_combination[1][\"step\"]\n",
    "        accuracy = compute_accruacy(df,step,epoch,num_images)\n",
    "        accuracies.append(accuracy)\n",
    "        total_batches_finished.append(epoch * 900 + step * eval_interval )\n",
    "\n",
    "    accuracy_df = pd.DataFrame({\"Total_Batches_Finished\":total_batches_finished,\"Accuracy\":accuracies})\n",
    "\n",
    "    x = accuracy_df[\"Total_Batches_Finished\"].values\n",
    "    x = x.reshape(x.shape[0])\n",
    "    y = accuracy_df[\"Accuracy\"].values\n",
    "    y = y.reshape(y.shape[0])\n",
    "    legend = \"n_3={}\".format(N_3)\n",
    "\n",
    "    plt.plot(x,y,label=legend,lw=2)\n",
    "    plt.xlabel(\"Number of batches\")\n",
    "    plt.ylabel(\"Validation Accuracy\")\n",
    "    accuracy_dict[z_dim] = max(accuracies)\n",
    "#legends = [\"z_dim={}\".format(dim) for  dim in z_dims]\n",
    "#print(legends)\n",
    "#plt.legend([legends])\n",
    "#legend = ax.legend(loc='upper center', shadow=True, fontsize='x-large')\n",
    "plt.legend(loc='upper left', shadow=True, fontsize='x-large')\n",
    "plot_filename = ROOT_PATH +\"combined_analysis/\" + \"accuracy.png\"\n",
    "plt.title(\"z_dim = {}\".format(z_dim))\n",
    "print(plot_filename)\n",
    "plt.savefig(plot_filename,bbox=\"tight\")\n"
   ]
  },
  {
   "cell_type": "code",
   "execution_count": 8,
   "metadata": {},
   "outputs": [
    {
     "data": {
      "text/plain": [
       "{5: 0.578125, 10: 0.6171875}"
      ]
     },
     "execution_count": 8,
     "metadata": {},
     "output_type": "execute_result"
    }
   ],
   "source": [
    "accuracy_dict"
   ]
  },
  {
   "cell_type": "code",
   "execution_count": null,
   "metadata": {},
   "outputs": [],
   "source": []
  }
 ],
 "metadata": {
  "kernelspec": {
   "display_name": "Python 3",
   "language": "python",
   "name": "python3"
  },
  "language_info": {
   "codemirror_mode": {
    "name": "ipython",
    "version": 3
   },
   "file_extension": ".py",
   "mimetype": "text/x-python",
   "name": "python",
   "nbconvert_exporter": "python",
   "pygments_lexer": "ipython3",
   "version": "3.7.4"
  }
 },
 "nbformat": 4,
 "nbformat_minor": 2
}
